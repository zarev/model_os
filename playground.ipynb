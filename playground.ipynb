{
 "cells": [
  {
   "cell_type": "code",
   "execution_count": 4,
   "metadata": {},
   "outputs": [
    {
     "name": "stdout",
     "output_type": "stream",
     "text": [
      "The image shows a document with German text, which appears to be a request for a change of residence for a person named Berlin. It includes sections for the applicant's name, address, and the reason for the change. There is also a section for the family name and surname, and a space for the date of birth. The document is stamped with the 'Bezirksamt Mitte von Berlin' and has a date of 11.04.2024. At the bottom, there is a seal with the text 'Berlin, 11.04.2024' and a logo that includes a shield with a cross and a banner with the text 'BEZIRKSAMT MITTE'.\n"
     ]
    }
   ],
   "source": [
    "from io import BytesIO\n",
    "import os\n",
    "import requests\n",
    "from PIL import Image\n",
    "import base64\n",
    "\n",
    "\n",
    "\n",
    "# Load the model\n",
    "load_data = {\"num_gpus\": 1, \"models_per_gpu\": 1}\n",
    "response = requests.post(\"http://127.0.0.1:8000/load\", json=load_data)\n",
    "\n",
    "from PIL import Image\n",
    "import requests\n",
    "from io import BytesIO\n",
    "import os\n",
    "import base64\n",
    "\n",
    "def load_image(image_source):\n",
    "    \"\"\"\n",
    "    Load an image from a local file path or a URL, convert it to RGB if necessary,\n",
    "    and return the image as a base64-encoded JPEG.\n",
    "\n",
    "    Args:\n",
    "        image_source (str): Path to the image or URL of the image.\n",
    "\n",
    "    Returns:\n",
    "        str: Base64-encoded JPEG image.\n",
    "    \"\"\"\n",
    "    if os.path.isfile(image_source):  # Check if the source is a local file\n",
    "        image = Image.open(image_source)\n",
    "    else:  # Assume the source is a URL\n",
    "        response = requests.get(image_source)\n",
    "        image = Image.open(BytesIO(response.content))\n",
    "    \n",
    "    # Convert the image to RGB mode if it is RGBA\n",
    "    if image.mode == 'RGBA':\n",
    "        image = image.convert('RGB')\n",
    "    \n",
    "    # Save the image to a buffer as a JPEG\n",
    "    buffered = BytesIO()\n",
    "    image.save(buffered, format=\"JPEG\")\n",
    "    \n",
    "    # Encode the buffer content to base64 and return\n",
    "    return base64.b64encode(buffered.getvalue()).decode('utf-8')\n",
    "\n",
    "# change to your image\n",
    "uk = \"C:/Users/Mariyan/Downloads/uk_passport.png\"\n",
    "# webp doesn't work\n",
    "togo = \"C:/Users/Mariyan/Downloads/togo_anmeldung_1.webp\"\n",
    "bike=\"https://preview.redd.it/picked-up-a-new-to-me-bike-after-a-4-year-riding-hiatus-v0-xvkmmnl8smjd1.jpeg?auto=webp&s=a0b9ac8e7c96c392d80fc0439dee06af01c63cdc\"\n",
    "prompt = \"whats in the picture\"\n",
    "\n",
    "\n",
    "# Send a prompt\n",
    "prompt_data = {\n",
    "    \"model\": 0, #TODO model_path\n",
    "    \"image\": load_image(togo), # optional, can be None\n",
    "    \"text\": prompt\n",
    "}\n",
    "response = requests.post(\"http://127.0.0.1:8000/prompt\", json=prompt_data)\n",
    "print(response.json()['response'])"
   ]
  },
  {
   "cell_type": "code",
   "execution_count": null,
   "metadata": {},
   "outputs": [],
   "source": []
  }
 ],
 "metadata": {
  "kernelspec": {
   "display_name": "base",
   "language": "python",
   "name": "python3"
  },
  "language_info": {
   "codemirror_mode": {
    "name": "ipython",
    "version": 3
   },
   "file_extension": ".py",
   "mimetype": "text/x-python",
   "name": "python",
   "nbconvert_exporter": "python",
   "pygments_lexer": "ipython3",
   "version": "3.12.3"
  }
 },
 "nbformat": 4,
 "nbformat_minor": 2
}
